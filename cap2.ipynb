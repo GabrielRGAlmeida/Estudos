{
 "cells": [
  {
   "cell_type": "code",
   "execution_count": 1,
   "metadata": {},
   "outputs": [],
   "source": [
    "import math"
   ]
  },
  {
   "cell_type": "markdown",
   "metadata": {},
   "source": [
    "<span style='font-weight: bold; font-size: 20px'>Exercise 1 </span><br><br>\n",
    "\n",
    "Let $S = \\{T,G,C,A\\}$ be the set of the four types of nucleotides. Then $\\Omega = \\{(x_1, x_2, x_3) \\; | \\; x_i \\in S, \\; i=0,1,2,3\\}$ is set of all possible combinations of three nucleotides. So\n",
    "$$ | \\Omega | = 4 \\times 4 \\times 4 = 64$$"
   ]
  },
  {
   "cell_type": "markdown",
   "metadata": {},
   "source": [
    "<span style='font-weight: bold; font-size: 20px'>Exercise 2 </span><br><br>\n",
    "a) Let $S = \\{., _\\}$ be the set of different symbols. For $n$ symbols we have $\\Omega = \\{(x_1, x_2, ..., x_n)\\; | \\; x_i \\in S, \\; i=1,2,...,n\\} \\; \\rightarrow \\; |\\Omega| = 2^n$.\n",
    "<br>\n",
    "b) Since for $n$ symbols we have $|\\Omega| = 2^n$, then for n-1 symbols we have $|\\Omega| = 2^{n-1}$... leading us to\n",
    "$$ 2^1 + 2^2 + ... + 2^n = \\sum^n_{i=1}{2^i} $$\n",
    "$$ 2 \\times (2^1 + 2^2 + ... + 2^n) = 2 \\times \\sum^n_{i=1}{2^i} $$\n",
    "$$ \\sum^n_{i=1}{2^i} - 2 \\times \\sum^n_{i=1}{2^i} = 2 - 2^{n+1} $$\n",
    "$$ \\sum^n_{i=1}{2^i}(1 -2) = 2 - 2^{n+1} $$\n",
    "$$ \\sum^n_{i=1}{2^i} = 2^{n+1} - 2$$\n"
   ]
  },
  {
   "cell_type": "markdown",
   "metadata": {},
   "source": [
    "<span style='font-weight: bold; font-size: 20px'>Exercise 3 </span><br><br>\n",
    "If he finds the key at r-th key it means all attempts before it were failed. Let $S_1, S_2, ..., S_{r-1}$ be the events that he fails at $1, 2, ... r-1$ attempts respectivly. So the probability choose the wrong key in the attempt $i=1, 2, ..., r-1$ given it DIDN'T pick the right key is \n",
    "$$P_1 = \\frac{n-1}{n} $$\n",
    "$$P_2 = \\frac{n-1}{n} \\times \\frac{n-2}{n-1} $$\n",
    "$$. $$\n",
    "$$. $$\n",
    "$$. $$\n",
    "$$P_{r-1} =\\frac{n-1}{n} \\times \\frac{n-2}{n-1} \\times ... \\times \\frac{n-(r-1)}{n-(r - 2)} = \\frac{n-(r-1)}{n} $$\n",
    "\n",
    "If $P_r = \\frac{1}{n-(r-1)}$ is the probability of picking the right key at $r$ attempt so\n",
    "$$ P =  \\frac{n-(r-1)}{n} \\times  \\frac{1}{n-(r-1)} = \\frac{n-r+1}{n(n-(r -1))} = \\frac{1}{n}  $$\n"
   ]
  },
  {
   "cell_type": "markdown",
   "metadata": {},
   "source": [
    "<span style='font-weight: bold; font-size: 20px'>Exercise 4 </span><br><br>\n",
    "\n",
    "\n",
    "The problem assumes that each passenger $i$ has the probability to depart in each bus stop $P_i = \\frac{1}{10} \\; \\rightarrow \\complement{P_i} = \\frac{9}{10} $. If each passenger has $10$ different possibilities to depart then the total number of possibilities to depart all 6 passenger is $N = 10^6$  <br> Note that we have $6 \\times 5 \\times 4 \\times 3 \\times 2 \\times 1 = 6!$ ways to depart one passenger in six different bus stop. Then if we have 10 bus stops we have $\\frac{10!}{4!6!}$ to choose 6 different bus stop. So the result is\n",
    "$$ 6! \\frac{\\frac{10!}{4!6!}}{10^6} = \\frac{10!}{4!10^6} $$\n"
   ]
  },
  {
   "cell_type": "markdown",
   "metadata": {},
   "source": [
    "<span style='font-weight: bold; font-size: 20px'>Exercise 5 </span><br><br>\n",
    "\n",
    "The number of ways to pick diferent boxes in $n-1$ attempts considering $r$ boxes is <br> $ r \\times (r-1) \\times ... \\times (r-(n-2))  =  \\frac{r!}{(r - (n-1))!}$ from all possibilities $N = r^n$. If we pick the same box at n-place then we have $n-1$ ways to do it. So the result is\n",
    "$$\\frac{\\frac{r!}{(r-(n-1))!} \\times (n-1)}{r^n} = \\frac{r!(n-1)}{(r-(n-1))! \\times r^n} $$"
   ]
  },
  {
   "cell_type": "markdown",
   "metadata": {},
   "source": [
    "<span style='font-weight: bold; font-size: 20px'>Exercise 6 </span><br><br>\n",
    "Let $S = \\{1, 2,..., r\\}$ be the set of all labeled balls and  $ \\Omega = \\{X_i = (x_1, x_2,... x_N)\\; | \\; x_i \\in S, \\; i =1, 2, ..., N\\}$ be the set of all different possible to draw N balls. We can check that $|\\Omega| = C_{r,N}$. Now if <br>$A_1 = \\{(\\omega_1, \\omega_2, ..., \\omega_N ) \\; | \\; \\omega_i \\in S, \\; i=1,2,...,N\\}$ is the original set, the subsequent sets are \n",
    "$$A_{i>1} = \\{(\\omega_1, \\omega_2, ..., \\omega_N ) \\; | \\; \\omega_i \\in S-a_i, \\; a_i \\in A_1, \\; i=1,2,...,N\\} $$\n",
    "and this gives us $|A_{i>1}| = C_{r-N, N} $. Since the first $N$ draw balls is the original set, we have $r-1$ attempts, therefore the probability to pick none of the $A_1$ elements is\n",
    "$$P = \\left(\\frac{\\binom{r-N}{r}}{\\binom{r}{N}}\\right)^{r-1} $$"
   ]
  },
  {
   "cell_type": "markdown",
   "metadata": {},
   "source": [
    "<span style='font-weight: bold; font-size: 20px'>Exercise 7 </span><br><br>\n",
    "\n",
    "\n",
    "\n",
    "Consider that there is exactly $k$ men between them. So we have $|A| = \\binom{n-2}{k} \\times 2! \\times k!$ possible ways to reorganize them. But we have $n >= k$ men so it implies that we can reorganize the $n-2-k$ group in $(n-1-k)!$ groups remaining from $|\\Omega| = n!$ ways to reorganize all of them. Therefore\n",
    "$$P = \\frac{\\left(\\frac{(n-2)!}{(n-2-k)!\\times k!} \\times 2! \\times k!\\right) \\times \\left(n-k-1\\right)!}{n!} = \n",
    "\\frac{(n-2)! \\times 2! \\times \\left(n-k-1\\right) }{n!} = \\frac{ 2 \\times (n-k-1) }{ n \\times (n-1)}$$"
   ]
  },
  {
   "cell_type": "markdown",
   "metadata": {},
   "source": [
    "<span style='font-weight: bold; font-size: 20px'>Exercise 8 </span><br><br>\n",
    "\n",
    "\n",
    "First, let's consider only $(x, y)$. Since $(x, y) = (y,x)$, we can count those $(x, y) \\rightarrow x \\neq y$ as a combination $\\binom{n}{2}$. It's obvious that we have $n$ domino pieces of type $(x, x)$. So the total is:\n",
    "$$ T = \\binom{n}{2} + n = \\frac{n!}{(n-2)!2!} + n = \\frac{n(n-1)}{2} + n = \\frac{n(n+1)}{2}$$\n"
   ]
  },
  {
   "cell_type": "markdown",
   "metadata": {},
   "source": []
  },
  {
   "cell_type": "markdown",
   "metadata": {},
   "source": []
  },
  {
   "cell_type": "markdown",
   "metadata": {},
   "source": [
    "<span style='font-weight: bold; font-size: 20px'>Exercise 9 </span><br><br>\n",
    "\n",
    "a) Let $A_i$ be the event that there is a match in $i$ and $A_r$ be the event that there is no match in $r$. So the set that represent this case is $A_i \\cap \\complement{A_r} = A_i - A_i \\cap A_r$. <br>\n",
    "The set $A_i \\cap A_r$ is the set of all elements in $A_i$ there is in $A_r$ i.e. we have $(n-2)!$ elements to permute. So \n",
    "$$P(A_i \\cap \\complement A_r) = \\frac{(n-1)! - (n-2)!}{n!} = \\frac{(n-2)!(n-1 - 1)}{n!} = \\frac{n-2}{n(n-1)} $$\n",
    "<br><br>\n",
    "b) Subsequently $P(\\complement{A_r}) = 1 - P(A_r) = 1 - \\frac{1}{n} = \\frac{n-1}{n}$. Hence \n",
    "$$P(A_i | \\complement{A_r}) = \\frac{P(A_i \\cap \\complement{A_r})}{P(\\complement{A_r})}$$\n",
    "$$P(A_i | \\complement{A_r}) = \\frac{\\frac{n-2}{n(n-1)}}{\\frac{n-1}{n}}$$\n",
    "$$P(A_i | \\complement{A_r}) = \\frac{n-2}{(n-1)²}$$"
   ]
  },
  {
   "cell_type": "markdown",
   "metadata": {},
   "source": [
    "<span style='font-weight: bold; font-size: 20px'>Exercise 10 </span><br><br>\n",
    "\n",
    "a) Suppose the case box $B_n$ has no balls (we can pick $n$ of them). Then we have $n-1$ boxes to distribute $n$ balls. This means that one box from $n-1$ boxes have $2$ balls and the other $n-2$ boxes have one ball. The number of ways to permute two balls from n balls in $(n-1)$ boxes is $\\binom{n}{2} * (n-1)$. The $n-2$ remaining balls have $\\binom{n-2}{n-2} = 1$ ways to distribute them into the $(n-2)$ boxes, but we have $(n-2)!$ ways to pick the boxes. So\n",
    "$$P(B) = \\binom{n}{2}n(n-1)(n-2)!n^{-n} = \\binom{n}{2}n!n^{-n}$$\n",
    "<br><br>\n",
    "b) The probability of $B_1$ is empty is $P(B_1) = \\frac{(n-1) ^n}{n^n}$. If $B$ is the set of only one is empty:\n",
    "$$P(B | B_1) = \\frac{P(B_1 \\cap B)}{P(B_1)}$$\n",
    "but \n",
    "$$P(B_1 \\cap B) = P(B_1 | B)\\times P(B) = P(B | B_1)\\times P(B_1) $$\n",
    "and \n",
    "$$P(B_1 \\cap B) = \\frac{1}{n} \\binom{n}{2}n!n^{-n} = \\binom{n}{2}(n-1)!n^{-n}$$\n",
    "therefore\n",
    "$$P(B | B_1) = \\frac{\\binom{n}{2}(n-1)!n^{-n}}{\\frac{(n-1) ^n}{n^n}} = \\binom{n}{2}(n-1)!(n - 1)^{-n}$$\n",
    "<br><br>\n",
    "c)$$P(B_1 | B) = \\frac{P(B_1 \\cap B)}{P(B)} = \\frac{\\binom{n}{2}(n-1)!n^{-n}}{\\binom{n}{2}n!n^{-n}} = \\frac{1}{n}$$"
   ]
  },
  {
   "cell_type": "markdown",
   "metadata": {},
   "source": [
    "<span style='font-weight: bold; font-size: 20px'>Exercise 11 </span><br><br>\n",
    "The number of ways to distribute $n$ balls in $r$ boxes is $|\\Omega| = r^n$. This means that $b_0$ has $r$ boxes to choose, $b_1$ has $r$ and so on. Let $B_1$ be the set of ways that the first box has $j$ balls. So the number of ways to pick $j$ balls is $\\binom{n}{j}$ and the other boxes can be picked with $r-1$ boxes in $n-j$ ways. $|B_1| = \\binom{n}{j}(r-1)^{n-j}$. Therefore:\n",
    "$$P(B_1) = \\binom{n}{j}(r-1)^{n-j}r^{-n}$$\n"
   ]
  },
  {
   "cell_type": "markdown",
   "metadata": {},
   "source": [
    "<span style='font-weight: bold; font-size: 20px'>Exercise 12 </span><br><br>\n",
    "\n",
    "Let's check some values:<br>\n",
    "\n",
    "$(s)_{1} = \\frac{s!}{(s-1)!} = s$ <br>\n",
    "$(s)_{2} = \\frac{s!}{(s-2)!} = s(s-1)$ <br>.<br><br>.<br><br>.<br>\n",
    "$(s)_{n} = \\frac{s!}{(s-n)!} = s(s-1)...(s-n+1)$ <br>\n",
    "This show that this sequence is a strictly monotonic sequence in $[1,s]$ where $\\frac{(s)_{n}}{(s)_{n-1}} = s - n + 1 \\rightarrow s \\geq n$.\n",
    "<br>\n",
    "Finally:$$\\frac{(s_n)}{s^n} = \\frac{s(s-1)...(s-n+1)}{s^n} = 1 \\times (1 - \\frac{1}{s})(1 - \\frac{2}{s})...(1 - \\frac{n - 1}{s}) $$\n",
    "Note that $1 > (1 - \\frac{1}{s}) > ... >(1-\\frac{n-1}{s})$ and that means the \n",
    "$$ (1 - \\frac{1}{s})^{n-1}\\geq \\frac{(s)_n}{s^n} \\geq (1 - \\frac{n-1}{s})^{n-1}$$\n",
    "\n"
   ]
  },
  {
   "cell_type": "markdown",
   "metadata": {},
   "source": [
    "<span style='font-weight: bold; font-size: 20px'>Exercise 13 </span><br><br>\n",
    "We have $|\\Omega| = \\frac{(b+r)!}{(b+r-n + 1)!}$ different ways to pick $n - 1$ balls. If the first black ball is drawn in nth trial then the first pick has $r$ red balls, the second has $r-1$.... The last one has $r - (n-1)$. If $A$ is the set we pick only red balls in n-1th trials then $|A| = \\frac{r!}{(r-n+1)!}$. Given that $A$ occurred the probability that the next ball is black is $P(B_0 | A) = \\frac{b}{b + (r-n+1)}$ The nth trial has $b$ ways to drawn so if $B$ is the set that the first black ball picked is at nth attempt, then:\n",
    "\n",
    "$$P(B) = \\frac{\\frac{br!}{(r-n+1)!(b + r - n + 1)}}{\\frac{(b+r)!}{(b+r-n+1)!}} $$\n",
    "$$P(B) = \\frac{\\frac{br!(n-1)!}{(r-n+1)!(n-1)!(b + r - n + 1)}}{\\frac{(b+r)!}{(b+r-n+1)!}} $$\n",
    "$$P(B) = \\frac{\\frac{b(n-1)!\\binom{r}{n-1}}{(b + r - n + 1)}}{\\frac{(b+r)!}{(b+r-n+1)!}} $$\n",
    "$$P(B) = \\frac{\\binom{r}{n-1}\\frac{b(n-1)!}{(b + r - n + 1)}}{\\frac{(b+r)!}{(b+r-n+1)!}} $$\n",
    "$$P(B) = \\frac{b\\binom{r}{n-1}}{\\frac{(b+r)!(b + r - n + 1)}{(b+r - n+1)!(n-1)!}} $$\n",
    "$$P(B) = \\frac{b\\binom{r}{n-1}}{\\frac{(b+r)!}{(b+r - n)!(n-1)!}} $$\n",
    "$$P(B) = \\frac{b\\binom{r}{n-1}}{n\\binom{b+r}{n}} $$\n",
    "\n",
    "\n"
   ]
  },
  {
   "cell_type": "markdown",
   "metadata": {},
   "source": [
    "<span style='font-weight: bold; font-size: 20px'>Exercise 14 </span><br><br>\n",
    "Let's describe the sample space as $|\\Omega| = \\binom{52}{5}$.\n",
    "\n",
    "\n",
    "a) Consider only one suit (club for example). The probability to pick this hand is $\\frac{1}{\\binom{52}{5}}$, however we have 4 suits so:$$P(A) = \\frac{4}{\\binom{52}{5}}$$ <br>\n",
    "b) From $A,..., Q, K, A$ we have 10 different sequency cards hand combination. Thus using a) we have:\n",
    "$$P(A) = \\frac{40}{\\binom{52}{5}}$$ \n",
    "\n",
    "<br>c) Analysing the case $ \\{ 2, 2, 2, 2, 3 \\} $ we have four card number two and three. The set that represent them can be $|A_2| = \\binom{4}{4} = 1$ and $|B_3| = \\binom{4}{1} = 4$. Since the cards has 13 different values, then we can count $|A| = 13 \\times 1$ and $|B| = 12 \\times 4$. Then if $C = |A|*|B|$\n",
    "$$P(C) = \\frac{13 \\times 48}{\\binom{52}{5}}$$\n",
    "<br>d) $|A| = 13 \\times \\binom{4}{3} = 13 \\times 4$ and $|B| = 12 \\times \\binom{4}{2} = 12 \\times 6$\n",
    "$$P(C) = \\frac{13\\times 4\\times 12 \\times 6}{\\binom{52}{5}}$$\n",
    "<br>e) $|A| = 4 \\times  \\binom{13}{5}$\n",
    "$$P(A) = \\frac{4 \\times  \\binom{13}{5}}{\\binom{52}{5}}$$\n",
    "<br>f) In this case we have 10 different sequences and four different suits for each card. This mean $|A| = 4^{5}$ \n",
    "$$P(A) = \\frac{10 \\times 4⁵}{\\binom{52}{5}}$$\n",
    "<br>g) Note that  for $x$ we have $13 \\times 4$ (13 different numbers of 4 suits) options while $y$ and $z$ has $\\binom{12}{2} \\times 4²$\n",
    "$$P(A) = \\frac{13 \\times \\binom{12}{2} \\times 4³}{\\binom{52}{5}}$$\n",
    "<br>h) Note that for $x$ and $y$ $\\binom{13}{2}$ different values from the same suit. Each pair has $\\binom{4}{2}$ different suit combinations. Finally $z = 11 \\times 4$\n",
    "$$P(A) = \\frac{\\binom{13}{2} \\binom{4}{2} \\binom{4}{2} \\times 11 \\times 4}{\\binom{52}{5}}$$\n",
    "<br>i) $w$ has $13 \\times \\binom{4}{2}$ while $x, y, z$ has $\\binom{12}{3} \\times4³$\n",
    "$$P(A) = \\frac{13 \\times \\binom{4}{2} \\binom{12}{3} \\times4³}{\\binom{52}{5}}$$"
   ]
  },
  {
   "cell_type": "markdown",
   "metadata": {},
   "source": [
    "<span style='font-weight: bold; font-size: 20px'>Exercise 15 </span><br><br>\n",
    "Fixed balls one and six we have only one ball from $8$ ways to do it. These balls can be organized as $3!$ If the sample space has size $|\\Omega| = 10*9*8$\n",
    "\n",
    "$$P(A) = \\frac{3! * 8}{\\frac{10!}{(10 - 3)!}}$$\n",
    "$$P(A) = \\frac{8}{\\frac{10!}{(10 - 3)!3!}}$$\n",
    "$$P(A) = \\frac{8}{\\binom{10}{3}}$$"
   ]
  },
  {
   "cell_type": "markdown",
   "metadata": {},
   "source": [
    "<span style='font-weight: bold; font-size: 20px'>Exercise 16 </span><br><br>\n",
    "An ordinary deck has 52 cards where 4 of them are king. So There are 48 cards different from king. Thus the $i^{th}$ element isn't a king for $0 \\leq i \\leq n-1$ while $i = n$ has only four elements. Therefore, the first $n-1$ elements has the set size as $\\frac{48!}{(48 - n+1)!} in a sample of size $\\frac{52!}{(52-n)!}$:\n",
    "$$\\frac{\\frac{4 \\times 48!}{(48-n+1)!}}{\\frac{52!}{52-n}!}$$"
   ]
  },
  {
   "cell_type": "markdown",
   "metadata": {},
   "source": [
    "<span style='font-weight: bold; font-size: 20px'>Exercise 17 </span><br><br>\n",
    "a) $\\Omega = \\{(x_1, x_2, ..., x_n) \\; | \\; x_i \\neq x_j \\forall i \\neq j \\}$  we can count it as $\\frac{r!}{(r-n)!}$. Also there are $\\frac{(r-k)!}{(r-k-n)!}$ elements different from $k$. So\n",
    "$$P(A) = \\frac{\\frac{(r-k)!}{(r-k-n)!}}{\\frac{r!}{(r-n)!}}$$\n",
    "<br><br>\n",
    "b)$|\\Omega| = r^n$, $|A| = (r-k)^n \\;\\;  \\rightarrow \\;\\; P(A) = \\frac{(r-k)^n}{r^n} = \\left(1 - \\frac{k}{r} \\right)^n$"
   ]
  },
  {
   "cell_type": "markdown",
   "metadata": {},
   "source": [
    "<span style='font-weight: bold; font-size: 20px'>Exercise 18 </span><br><br>\n",
    "Considering $k \\leq n$, we have $|\\Omega| =  \\binom{r}{n}$. Let $A$ be te set where $k$ elements from $r$ elements are included in $n$ drawn. This tell us that we can permute $n - k$ from $r-k$ so $\\binom{r-k}{n-k}$ then\n",
    "$$P(A) = \\frac{\\binom{r-k}{n-k}}{ \\binom{r}{n}}$$"
   ]
  },
  {
   "cell_type": "markdown",
   "metadata": {},
   "source": [
    "<span style='font-weight: bold; font-size: 20px'>Exercise 19 </span><br><br>\n",
    "<a href=\"/home/deck/Documents/Dev/Estudos/Cálculo de Probabilidade/Estudos/Untitled.ipynb\"> Answer here in Matching Problem</a>"
   ]
  },
  {
   "cell_type": "markdown",
   "metadata": {},
   "source": [
    "<span style='font-weight: bold; font-size: 20px'>Exercise 20 </span><br><br>\n",
    "\n",
    "We want to show that \n",
    "$$\\frac{\\binom{n}{k}\\binom{r-n}{m-k}}{\\binom{r}{m}} = \\frac{\\binom{m}{k}\\binom{r-m}{n-k}}{\\binom{r}{n}} $$\n",
    "$$\\frac{\\binom{n}{k}\\binom{r-n}{m-k}}{\\binom{r}{m}} = \\frac{\\frac{n!}{(n-k)!k!}\\frac{(r-n)!}{(r-n-(m-k))!(m-k)!}}{\\frac{r!}{(r-m)!m!}} $$\n",
    "$$\\frac{\\binom{n}{k}\\binom{r-n}{m-k}}{\\binom{r}{m}} = \\frac{\\frac{m!}{(n-k)!k!}\\frac{(r-n)!}{(r-n-(m-k))!(m-k)!}}{\\frac{r!}{(r-m)!n!}} = \\frac{\\frac{m!}{(m-k)!k!}\\frac{(r-n)!}{(r-n-(m-k))!(n-k)!}}{\\frac{r!}{(r-m)!n!}} $$\n",
    "$$\\frac{\\binom{n}{k}\\binom{r-n}{m-k}}{\\binom{r}{m}} = \\frac{\\binom{m}{k}\\frac{(r-n)!}{(r-n-(m-k))!(n-k)!}}{\\frac{r!}{(r-m)!n!}} = \\frac{\\binom{m}{k}\\frac{(r-m)!}{(r-n-(m-k))!(n-k)!}}{\\frac{r!}{(r-n)!n!}} = \\frac{\\binom{m}{k}\\frac{(r-m)!}{(r-m-(n-k))!(n-k)!}}{\\frac{r!}{(r-n)!n!}}$$\n",
    "$$\\frac{\\binom{n}{k}\\binom{r-n}{m-k}}{\\binom{r}{m}} = \\frac{\\binom{m}{k}\\binom{r-m}{n-k}}{\\binom{r}{n}} $$"
   ]
  },
  {
   "cell_type": "markdown",
   "metadata": {},
   "source": [
    "\n",
    "<span style='font-weight: bold; font-size: 20px'>Exercise 21 </span><br><br>\n",
    "$$\\frac{\\binom{40}{10}}{\\binom{50}{10}} $$"
   ]
  },
  {
   "cell_type": "markdown",
   "metadata": {},
   "source": [
    "<span style='font-weight: bold; font-size: 20px'>Exercise 22 </span><br><br>\n",
    "We have four aces meaning that $\\binom{4}{3}$ different combinations. It let us with 23 free spaces of 52 - aces = 48. Combining them is equal to $\\binom{48}{23}$. All possibilities can be computed as $\\binom{52}{26}$\n",
    "$$P(A) = \\frac{\\binom{4}{3} \\binom{48}{23}}{\\binom{52}{26}}$$\n"
   ]
  },
  {
   "cell_type": "markdown",
   "metadata": {},
   "source": [
    "<span style='font-weight: bold; font-size: 20px'>Exercise 23 </span><br><br>\n",
    "The size of a set with two cards of same color is $\\binom{26}{2}$. The total size is $\\binom{52}{4}$\n",
    "$$P(A) \\times P(B) = \\frac{\\binom{26}{2}²}{\\binom{52}{4}}$$"
   ]
  },
  {
   "cell_type": "markdown",
   "metadata": {},
   "source": [
    "<span style='font-weight: bold; font-size: 20px'>Exercise 24 </span><br><br>\n",
    "Let $A$ be the set of at least one card is higher than 10. The complement of it is none of the cards is higher than 10 so $|\\complement{A} |= \\binom{36}{5}$ (nine cards of each suit). Then\n",
    "$$P(A) = 1 - \\frac{\\binom{36}{5}}{\\binom{52}{5}}$$\n",
    "Let B be the set of all cards are higher than 6. So $|B| = \\binom{32}{5}$.\n",
    "$$P(B) = \\frac{\\binom{32}{5}}{\\binom{52}{5}}$$\n",
    "Since $|B\\cap A| = \\binom{32}{5} - \\binom{16}{5} $\n",
    "$$P(B|A) = \\frac{P(A\\cap B)}{P(A)}$$\n",
    "let's calculate $P(A \\cap B) = P(A|B)\\times P(B)$\n",
    "$$P(B|A) = \\frac{\\frac{\\binom{32}{5} - \\binom{16}{5}}{\\binom{52}{5}}}{1 - \\frac{\\binom{36}{5}}{\\binom{52}{5}}}$$\n",
    "$$P(B|A) = \\frac{\\binom{32}{5} - \\binom{16}{5}}{\\binom{52}{5} - \\binom{36}{5}}$$"
   ]
  },
  {
   "cell_type": "markdown",
   "metadata": {},
   "source": [
    "<span style='font-weight: bold; font-size: 20px'>Exercise 25 </span><br><br>\n",
    "Let's describe $\\Omega = \\{(x_1, x_2, x_3, x_4, x_5) \\; | \\; x_i \\neq x_j \\; \\forall \\; i \\neq j\\} \\;\\; \\rightarrow \\;\\; |\\Omega| = \\binom{n}{5}$ and $A$ be the set that we win at least one. $\\complement{A}$ is the set where we don't win any price $P(A) = 1 - \\complement{P(A)}$. Note that there is $n-3$ tickets for this set, so:\n",
    "$$P(A) = 1 - \\frac{\\binom{n-3}{5}}{\\binom{n}{5}}$$ "
   ]
  },
  {
   "cell_type": "markdown",
   "metadata": {},
   "source": [
    "<span style='font-weight: bold; font-size: 20px'>Exercise 26 </span><br><br>\n",
    "$\\Omega = \\{(x_1, x_2) \\; | \\; x_i \\neq x_j \\; \\forall \\; i \\neq j\\} \\;\\; \\rightarrow \\;\\; |\\Omega| = \\binom{100}{2}$\n",
    "<br> Let $A$ be the set of picking two good washers. So $|A| = \\binom{95}{2}$\n",
    "$$P(A) = \\frac{\\binom{95}{2}}{\\binom{100}{2}}$$"
   ]
  },
  {
   "cell_type": "markdown",
   "metadata": {},
   "source": [
    "<span style='font-weight: bold; font-size: 20px'>Exercise 27 </span><br><br>\n",
    "$\\Omega = \\{(x_1, x_2, ..., x_n) \\; | \\; x_i \\neq x_j \\; \\forall \\; i \\neq j\\} \\;\\; \\rightarrow \\;\\; |\\Omega| = \\binom{r}{n}$. We can interpret it as omega is the set of all different drawn using the box 1. Let $A$ be the set of $k$ elements from box 2 is the same of box 1. Consequently, we have $\\binom{n}{k}$ ways to pick exactly $k$ same elements. For the other elements, we have $r-n$ for $n-k$ positions. $|A| = \\binom{n}{k}\\binom{r-n}{n-k}  $\n",
    "$$P(A) = \\frac{\\binom{r-n}{n-k}\\binom{n}{k}}{\\binom{r}{n}}$$"
   ]
  }
 ],
 "metadata": {
  "kernelspec": {
   "display_name": "Python (enginenv)",
   "language": "python",
   "name": "enginenv"
  },
  "language_info": {
   "codemirror_mode": {
    "name": "ipython",
    "version": 3
   },
   "file_extension": ".py",
   "mimetype": "text/x-python",
   "name": "python",
   "nbconvert_exporter": "python",
   "pygments_lexer": "ipython3",
   "version": "3.12.3"
  }
 },
 "nbformat": 4,
 "nbformat_minor": 2
}
