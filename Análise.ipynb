{
 "cells": [
  {
   "cell_type": "markdown",
   "id": "995e47b1-7e58-492a-a96f-e419cace24aa",
   "metadata": {},
   "source": [
    "<span style='font-weight: bold; font-size: 40px'>Introdução aos Corpos e Anéis</span>"
   ]
  }
 ],
 "metadata": {
  "kernelspec": {
   "display_name": "Python 3 (ipykernel)",
   "language": "python",
   "name": "python3"
  },
  "language_info": {
   "codemirror_mode": {
    "name": "ipython",
    "version": 3
   },
   "file_extension": ".py",
   "mimetype": "text/x-python",
   "name": "python",
   "nbconvert_exporter": "python",
   "pygments_lexer": "ipython3",
   "version": "3.12.0"
  }
 },
 "nbformat": 4,
 "nbformat_minor": 5
}
